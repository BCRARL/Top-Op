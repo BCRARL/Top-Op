{
 "cells": [
  {
   "cell_type": "code",
   "execution_count": null,
   "metadata": {},
   "outputs": [],
   "source": [
    "import matplotlib.pyplot as plt\n",
    "from matplotlib import colors\n",
    "import numpy as np"
   ]
  },
  {
   "cell_type": "code",
   "execution_count": null,
   "metadata": {},
   "outputs": [],
   "source": [
    "#code to create true force vectors\n",
    "def genForces(f1,a1,f2,a2):\n",
    "    fx_1 = f1*np.cos(a1)\n",
    "    fy_1 = f1*np.sin(a1)\n",
    "    fx_2 = f2*np.cos(a2)\n",
    "    fy_2 = f2*np.sin(a2)\n",
    "\n",
    "    fx_3 = -(fx_1+fx_2)\n",
    "    fy_3 = -(fy_1+fy_2)\n",
    "\n",
    "    print(\"forces are:\")\n",
    "    print(\"Force1: x={}, y={}\".format(int(fx_1),int(fy_1)))\n",
    "    print(\"Force2: x={}, y={}\".format(int(fx_2),int(fy_2)))\n",
    "    print(\"Force3: x={}, y={}\".format(int(fx_3),int(fy_3)))\n",
    "\n",
    "    return np.array([[fx_1,fx_2,fx_3],[fy_1,fy_2,fy_3]])"
   ]
  },
  {
   "cell_type": "code",
   "execution_count": null,
   "metadata": {},
   "outputs": [],
   "source": [
    "\n",
    "def plotFormatVector(formatVector,res:int=100):\n",
    "    circles = formatVector[0]\n",
    "    radii = formatVector[1]\n",
    "    forces = formatVector[2]\n",
    "    nelx, nely = formatVector[3], formatVector[4]\n",
    "    Youngs, C_max, S_max = formatVector[5], formatVector[6], formatVector[7]\n",
    "    print(\"Youngs:\",Youngs)\n",
    "    print(\"C_max:\",C_max)\n",
    "    print(\"S_max:\",S_max)\n",
    "\n",
    "\n",
    "    xDim,yDim = 2,1\n",
    "    x = np.linspace(0,xDim,res,True)\n",
    "    y = np.linspace(0,yDim,res//2,True)\n",
    "\n",
    "    X,Y = np.meshgrid(x,y)\n",
    "\n",
    "    def dist(circleIndex):\n",
    "        return np.sqrt((X-circles[0][circleIndex])**2 + (Y-circles[1][circleIndex])**2) - radii[circleIndex]\n",
    "    \n",
    "    circlesMap = np.minimum(dist(0),np.minimum(dist(1),dist(2)))\n",
    "    circlesMap = np.where(circlesMap<=0,1,0)\n",
    "\n",
    "    fig,ax = plt.subplots(1,1)\n",
    "    plt.imshow(circlesMap,cmap='gray_r')\n",
    "    MaxForce = np.max(np.abs(np.ravel(forces)))\n",
    "    maxForceLength = res//10\n",
    "    forceScale = maxForceLength/MaxForce\n",
    "\n",
    "    def plotForce(num):\n",
    "        centerX = circles[0][num] * res//2\n",
    "        centerY = circles[1][num] * res//2\n",
    "        dx = forces[0][num] * forceScale\n",
    "        dy = forces[1][num] * forceScale\n",
    "        ax.arrow(centerX,centerY,dx,dy,width=res/200,color='red')\n",
    "\n",
    "    plotForce(0)\n",
    "    plotForce(1)\n",
    "    plotForce(2)\n",
    "        \n",
    "    \n",
    "    plt.show()\n"
   ]
  },
  {
   "attachments": {},
   "cell_type": "markdown",
   "metadata": {},
   "source": [
    "<h1>Creating a part</h1>\n",
    "<p>When creating a new part there are three design points you must consider: The placement of the circles, the direction of two forces, and what the constraints should be</p>\n",
    "<p>For placing the circles, our domain allows for circles to be placed anywhere in a continuous 2 by 1 mesh as long as the circles do not overlap with each other or the boundaries of the domain. If a circle violates theses constraint then it will be altered till it best fits these conditions.</p>\n",
    "<p>Since all three forces must sum to zero, users are only allowed to input two forces for the circles. The third force will automatically be generated to cancel out the other two. Forces are generated with polar coordinates so the user must select a magnitude and an angle. Valid force sizes are in the 10,000 kilo-newton range but you can go as high as 20,000 and may also go negative.</p>\n",
    "<p>The constraints for the problem inlcude the Young's modulus, the compliance max and the stress max.</p>\n",
    "<ul>\n",
    "    <li>Young's modulus: min:5.2e+10 mean:2.9e+11 max:5e+11</li>\n",
    "    <li>Compliance max: min:0.0006 mean:0.03, max:.5</li>\n",
    "    <li>Stress max: min:3e+6 mean:1.5e+7 max:4.7e+7</li>\n",
    "</ul>\n",
    "<p2>It is important to note that these are all unitless values, while they do corespond to real units and react proportionally to each other, they do not represent a true scale.<\\p2>"
   ]
  },
  {
   "cell_type": "code",
   "execution_count": null,
   "metadata": {},
   "outputs": [],
   "source": [
    "#current set up is the fidget spinner formation\n",
    "\n",
    "#circle 1\n",
    "c1_x = 0.85\n",
    "c1_y = 0.76\n",
    "c1_radius = .15\n",
    "\n",
    "#circle 2\n",
    "c2_x = 0.85\n",
    "c2_y = 0.24\n",
    "c2_radius = .15\n",
    "\n",
    "#circle 3\n",
    "c3_x = 1.3\n",
    "c3_y = 0.5\n",
    "c3_radius = .15\n",
    "\n",
    "#forces are set to the mean value pointed at an angle\n",
    "force1 = 1e4\n",
    "angle1 = (1/6)*np.pi\n",
    "\n",
    "force2 = 1e4\n",
    "angle2 = (5/6)*np.pi\n"
   ]
  },
  {
   "cell_type": "code",
   "execution_count": null,
   "metadata": {},
   "outputs": [],
   "source": [
    "#set up for beam\n",
    "\n",
    "#circle 1\n",
    "c1_x = 0.3\n",
    "c1_y = 0.7\n",
    "c1_radius = .15\n",
    "\n",
    "#circle 2\n",
    "c2_x = 1.5\n",
    "c2_y = 0.5\n",
    "c2_radius = .25\n",
    "\n",
    "#circle 3\n",
    "c3_x = .5\n",
    "c3_y = 0.2\n",
    "c3_radius = .10\n",
    "\n",
    "#forces are set to the mean value pointed at an angle\n",
    "force1 = 1e4\n",
    "angle1 = (6/6)*np.pi\n",
    "\n",
    "force2 = 1e4\n",
    "angle2 = (2/6)*np.pi"
   ]
  },
  {
   "cell_type": "code",
   "execution_count": null,
   "metadata": {},
   "outputs": [],
   "source": [
    "# standard resolution is 100 by 50\n",
    "\n",
    "circles_array = np.array([[c1_x,c2_x,c3_x],[c1_y,c2_y,c3_y]])\n",
    "radii_array = np.array([c1_radius,c2_radius,c3_radius])\n",
    "forces = genForces(force1,angle1,force2,angle2)"
   ]
  },
  {
   "cell_type": "code",
   "execution_count": null,
   "metadata": {},
   "outputs": [],
   "source": [
    "#slightly higher constraints than normal\n",
    "\n",
    "YoungsModulus = 2e11\n",
    "ComplianceMax = 0.03\n",
    "StressMax = 1e7\n",
    "\n",
    "#standard resolution\n",
    "nelx = 100\n",
    "nely = nelx//2#50\n",
    "\n",
    "formatVector = [circles_array,radii_array,forces,nelx,nely,YoungsModulus,ComplianceMax,StressMax]"
   ]
  },
  {
   "cell_type": "code",
   "execution_count": null,
   "metadata": {},
   "outputs": [],
   "source": [
    "plotFormatVector(formatVector)"
   ]
  },
  {
   "cell_type": "code",
   "execution_count": null,
   "metadata": {},
   "outputs": [],
   "source": [
    "np.savetxt('formatVector',formatVector)"
   ]
  }
 ],
 "metadata": {
  "kernelspec": {
   "display_name": "Python 3",
   "language": "python",
   "name": "python3"
  },
  "language_info": {
   "codemirror_mode": {
    "name": "ipython",
    "version": 3
   },
   "file_extension": ".py",
   "mimetype": "text/x-python",
   "name": "python",
   "nbconvert_exporter": "python",
   "pygments_lexer": "ipython3",
   "version": "3.11.2"
  },
  "orig_nbformat": 4
 },
 "nbformat": 4,
 "nbformat_minor": 2
}
